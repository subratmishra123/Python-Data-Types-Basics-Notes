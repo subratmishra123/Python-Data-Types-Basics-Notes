{
  "metadata": {
    "language_info": {
      "codemirror_mode": {
        "name": "python",
        "version": 3
      },
      "file_extension": ".py",
      "mimetype": "text/x-python",
      "name": "python",
      "nbconvert_exporter": "python",
      "pygments_lexer": "ipython3",
      "version": "3.8"
    },
    "kernelspec": {
      "name": "python",
      "display_name": "Python (Pyodide)",
      "language": "python"
    }
  },
  "nbformat_minor": 4,
  "nbformat": 4,
  "cells": [
    {
      "cell_type": "code",
      "source": "#LIST****\n#similar type of data only\n#mutable in nature means it can be change ",
      "metadata": {},
      "execution_count": null,
      "outputs": []
    },
    {
      "cell_type": "code",
      "source": "a=[1,2,3]\n(type(a))",
      "metadata": {
        "trusted": true
      },
      "execution_count": 1,
      "outputs": [
        {
          "execution_count": 1,
          "output_type": "execute_result",
          "data": {
            "text/plain": "list"
          },
          "metadata": {}
        }
      ]
    },
    {
      "cell_type": "code",
      "source": "#Dimensions in 2D & 3D/slicing ...........  ..........  ...........\na=[2]*12\na",
      "metadata": {
        "trusted": true
      },
      "execution_count": 14,
      "outputs": [
        {
          "execution_count": 14,
          "output_type": "execute_result",
          "data": {
            "text/plain": "[2, 2, 2, 2, 2, 2, 2, 2, 2, 2, 2, 2]"
          },
          "metadata": {}
        }
      ]
    },
    {
      "cell_type": "code",
      "source": "#2d array creat\nb=[[0]*2]*4\nb",
      "metadata": {
        "trusted": true
      },
      "execution_count": 37,
      "outputs": [
        {
          "execution_count": 37,
          "output_type": "execute_result",
          "data": {
            "text/plain": "[[0, 0], [0, 0], [0, 0], [0, 0]]"
          },
          "metadata": {}
        }
      ]
    },
    {
      "cell_type": "code",
      "source": "#3d array creat\nc=[[[0]*2]*3]*6\nc",
      "metadata": {
        "trusted": true
      },
      "execution_count": 32,
      "outputs": [
        {
          "execution_count": 32,
          "output_type": "execute_result",
          "data": {
            "text/plain": "[[[0, 0], [0, 0], [0, 0]],\n [[0, 0], [0, 0], [0, 0]],\n [[0, 0], [0, 0], [0, 0]],\n [[0, 0], [0, 0], [0, 0]],\n [[0, 0], [0, 0], [0, 0]],\n [[0, 0], [0, 0], [0, 0]]]"
          },
          "metadata": {}
        }
      ]
    },
    {
      "cell_type": "code",
      "source": "#list slicing*************\na=[1,2,3,4,5]\nprint(a[0:4])\nprint(a[0:6:2])",
      "metadata": {
        "trusted": true
      },
      "execution_count": 38,
      "outputs": [
        {
          "name": "stdout",
          "text": "[1, 2, 3, 4]\n[1, 3, 5]\n",
          "output_type": "stream"
        }
      ]
    },
    {
      "cell_type": "code",
      "source": "****************************************************************************************************************\nQuestion practice",
      "metadata": {},
      "execution_count": null,
      "outputs": []
    },
    {
      "cell_type": "code",
      "source": "#for loop some problem and solution........... ........... .................\n#list comprehension\na=['subrat', 'is', 'boy']\nprint([i[0]for i in a])",
      "metadata": {
        "trusted": true
      },
      "execution_count": 1,
      "outputs": [
        {
          "name": "stdout",
          "text": "['s', 'i', 'b']\n",
          "output_type": "stream"
        }
      ]
    },
    {
      "cell_type": "code",
      "source": "#1 st parent loop 2nd is chield loop\n#square bracket it will manuulate string\n#write loop first then append key value\nprint([x+y for x in 'cat' for y in 'fat' if x!='a' and y!='a'])",
      "metadata": {
        "trusted": true
      },
      "execution_count": 11,
      "outputs": [
        {
          "name": "stdout",
          "text": "['cf', 'ct', 'tf', 'tt']\n",
          "output_type": "stream"
        }
      ]
    },
    {
      "cell_type": "code",
      "source": "#multiply square up to 10 \nb=[2,4,6,8,10,12]\nprint([i*i for i in range(0,11)])",
      "metadata": {
        "trusted": true
      },
      "execution_count": 22,
      "outputs": [
        {
          "name": "stdout",
          "text": "[0, 1, 4, 9, 16, 25, 36, 49, 64, 81, 100]\n",
          "output_type": "stream"
        }
      ]
    },
    {
      "cell_type": "code",
      "source": "#extend, pop, remove function............. ................ .............\na=[1,2,3]\nb=[4,5,6]\na.extend(b)\nprint(a)",
      "metadata": {
        "trusted": true
      },
      "execution_count": 7,
      "outputs": [
        {
          "name": "stdout",
          "text": "[1, 2, 3, 4, 5, 6]\n",
          "output_type": "stream"
        }
      ]
    },
    {
      "cell_type": "code",
      "source": "#pop\na=[1,2,3,4,5]\na[3]=100\nprint (a.pop())\na",
      "metadata": {
        "trusted": true
      },
      "execution_count": 37,
      "outputs": [
        {
          "name": "stdout",
          "text": "None\n",
          "output_type": "stream"
        },
        {
          "execution_count": 45,
          "output_type": "execute_result",
          "data": {
            "text/plain": "[1, 2, 100, 5]"
          },
          "metadata": {}
        }
      ]
    },
    {
      "cell_type": "code",
      "source": "#remove only speacfic number\nd=[1,2,3,4,500]\nprint (d.remove(500))\nd",
      "metadata": {
        "trusted": true
      },
      "execution_count": 49,
      "outputs": [
        {
          "name": "stdout",
          "text": "None\n",
          "output_type": "stream"
        },
        {
          "execution_count": 49,
          "output_type": "execute_result",
          "data": {
            "text/plain": "[1, 2, 3, 4]"
          },
          "metadata": {}
        }
      ]
    },
    {
      "cell_type": "code",
      "source": "#max,min,sum.................\ne=[1,2,3,4,5]\nprint (min(e))\nprint (sum(e))",
      "metadata": {
        "trusted": true
      },
      "execution_count": 8,
      "outputs": [
        {
          "name": "stdout",
          "text": "1\n15\n",
          "output_type": "stream"
        }
      ]
    },
    {
      "cell_type": "code",
      "source": "#sum the list if value grater then 3?.....................\ne=[1,2,3,4,5]\nprint(sum([i for i in e if i > 3]))",
      "metadata": {
        "trusted": true
      },
      "execution_count": 16,
      "outputs": [
        {
          "name": "stdout",
          "text": "9\n",
          "output_type": "stream"
        }
      ]
    },
    {
      "cell_type": "code",
      "source": "#list slicing append any value it will take \nf=e\nf[2]=1000\nf",
      "metadata": {
        "trusted": true
      },
      "execution_count": 22,
      "outputs": [
        {
          "execution_count": 22,
          "output_type": "execute_result",
          "data": {
            "text/plain": "[1, 2, 1000, 4, 5]"
          },
          "metadata": {}
        }
      ]
    },
    {
      "cell_type": "code",
      "source": "#if you take : then you will fix start and end value so it will take the exact value in the list not take the reference you will given\ne=[1,2,3,4,5]\nf=e[:]\nf[2]=1000\nprint(e)",
      "metadata": {
        "trusted": true
      },
      "execution_count": 28,
      "outputs": [
        {
          "name": "stdout",
          "text": "[1, 2, 3, 4, 5]\n",
          "output_type": "stream"
        }
      ]
    },
    {
      "cell_type": "code",
      "source": "#append,pop,in ..........................",
      "metadata": {},
      "execution_count": null,
      "outputs": []
    },
    {
      "cell_type": "code",
      "source": "#append will use insert a new element present in list\na=[1,2,3,4]\na.append(1000)\na",
      "metadata": {
        "trusted": true
      },
      "execution_count": 34,
      "outputs": [
        {
          "execution_count": 34,
          "output_type": "execute_result",
          "data": {
            "text/plain": "[1, 2, 3, 4, 1000]"
          },
          "metadata": {}
        }
      ]
    },
    {
      "cell_type": "code",
      "source": "#pop it will delete thet element present in list\na.pop(2)\na",
      "metadata": {
        "trusted": true
      },
      "execution_count": 35,
      "outputs": [
        {
          "execution_count": 35,
          "output_type": "execute_result",
          "data": {
            "text/plain": "[1, 2, 4, 1000]"
          },
          "metadata": {}
        }
      ]
    },
    {
      "cell_type": "code",
      "source": "#in use any element present in list or not....\nprint(2 in  a)\na",
      "metadata": {
        "trusted": true
      },
      "execution_count": 36,
      "outputs": [
        {
          "name": "stdout",
          "text": "True\n",
          "output_type": "stream"
        },
        {
          "execution_count": 36,
          "output_type": "execute_result",
          "data": {
            "text/plain": "[1, 2, 4, 1000]"
          },
          "metadata": {}
        }
      ]
    },
    {
      "cell_type": "code",
      "source": "#simple trick find the value in the row\na=[1,2,3,4]\nfor i in a:\n   print (i)",
      "metadata": {
        "trusted": true
      },
      "execution_count": 6,
      "outputs": [
        {
          "name": "stdout",
          "text": "1\n2\n3\n4\n",
          "output_type": "stream"
        }
      ]
    },
    {
      "cell_type": "code",
      "source": "",
      "metadata": {},
      "execution_count": null,
      "outputs": []
    }
  ]
}