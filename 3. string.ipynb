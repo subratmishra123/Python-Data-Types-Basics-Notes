{
  "metadata": {
    "language_info": {
      "codemirror_mode": {
        "name": "python",
        "version": 3
      },
      "file_extension": ".py",
      "mimetype": "text/x-python",
      "name": "python",
      "nbconvert_exporter": "python",
      "pygments_lexer": "ipython3",
      "version": "3.8"
    },
    "kernelspec": {
      "name": "python",
      "display_name": "Python (Pyodide)",
      "language": "python"
    }
  },
  "nbformat_minor": 4,
  "nbformat": 4,
  "cells": [
    {
      "cell_type": "code",
      "source": "#count function\na='subrat Mishra'\nprint (a.count('a'))",
      "metadata": {
        "trusted": true
      },
      "execution_count": 5,
      "outputs": [
        {
          "name": "stdout",
          "text": "2\n",
          "output_type": "stream"
        }
      ]
    },
    {
      "cell_type": "code",
      "source": "#ljust,rjust,center is afunction how many number your string it will adjust as per number you given is formula\n#it start from=0,1,2,3 subrat m is total 13 char from start 's'0 & end 'a'13\nb='subrat mishra'\nprint (b.rjust(20, '+'))",
      "metadata": {
        "trusted": true
      },
      "execution_count": 1,
      "outputs": [
        {
          "name": "stdout",
          "text": "+++++++subrat mishra\n",
          "output_type": "stream"
        }
      ]
    },
    {
      "cell_type": "code",
      "source": "#join, split, sorted\nc=[\"subrat\", \"Mishra\"]\nprint(\" \".join(c))",
      "metadata": {
        "trusted": true
      },
      "execution_count": 6,
      "outputs": [
        {
          "name": "stdout",
          "text": "subrat Mishra\n",
          "output_type": "stream"
        }
      ]
    },
    {
      "cell_type": "code",
      "source": "d=\"subrat Mishra\"\nprint(d.split())",
      "metadata": {
        "trusted": true
      },
      "execution_count": 7,
      "outputs": [
        {
          "name": "stdout",
          "text": "['subrat', 'Mishra']\n",
          "output_type": "stream"
        }
      ]
    },
    {
      "cell_type": "code",
      "source": "e=\"subrat\"\nprint(\"\".join(sorted(e)))",
      "metadata": {
        "trusted": true
      },
      "execution_count": 20,
      "outputs": [
        {
          "name": "stdout",
          "text": "abrstu\n",
          "output_type": "stream"
        }
      ]
    },
    {
      "cell_type": "code",
      "source": "#find, index, replace",
      "metadata": {},
      "execution_count": null,
      "outputs": []
    },
    {
      "cell_type": "code",
      "source": "#find first apperance index it showing\n#-1 show if alphabet not there it return -1\nf=\"subrat Mishra\"\nprint (f.find(\"M\"))\nprint (f.find(\"z\"))\nprint (f.find(\"Mishra\"))",
      "metadata": {
        "trusted": true
      },
      "execution_count": 27,
      "outputs": [
        {
          "name": "stdout",
          "text": "7\n-1\n7\n",
          "output_type": "stream"
        }
      ]
    },
    {
      "cell_type": "code",
      "source": "#index\ng=\"subrat Mishra\"\nprint (g.index(\"s\"))",
      "metadata": {
        "trusted": true
      },
      "execution_count": 28,
      "outputs": [
        {
          "name": "stdout",
          "text": "0\n",
          "output_type": "stream"
        }
      ]
    },
    {
      "cell_type": "code",
      "source": "#replace\nh=\"subrat Mishra\"\nprint(h.replace(\"s\",\"N\",1))",
      "metadata": {
        "trusted": true
      },
      "execution_count": 6,
      "outputs": [
        {
          "name": "stdout",
          "text": "Nubrat Mishra\n",
          "output_type": "stream"
        }
      ]
    }
  ]
}