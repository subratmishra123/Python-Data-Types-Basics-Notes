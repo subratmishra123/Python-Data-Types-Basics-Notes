{
  "metadata": {
    "language_info": {
      "codemirror_mode": {
        "name": "python",
        "version": 3
      },
      "file_extension": ".py",
      "mimetype": "text/x-python",
      "name": "python",
      "nbconvert_exporter": "python",
      "pygments_lexer": "ipython3",
      "version": "3.8"
    },
    "kernelspec": {
      "name": "python",
      "display_name": "Python (Pyodide)",
      "language": "python"
    }
  },
  "nbformat_minor": 4,
  "nbformat": 4,
  "cells": [
    {
      "cell_type": "markdown",
      "source": "#tuple*****************\n#help program to Perform faster operation \n#it is imutable\n#it will help to make privacy user can not change the code\n#which key word or function can not editable we can perform in tuple \n#imutable: index, count, max, min, avg\n#mutable: append, remove",
      "metadata": {}
    },
    {
      "cell_type": "code",
      "source": "#if you make any changes first you convert it into list............. .....       \na=(1,2,3,4,5)\na=list(a)\na[0]=100\na",
      "metadata": {
        "trusted": true
      },
      "execution_count": 3,
      "outputs": [
        {
          "execution_count": 3,
          "output_type": "execute_result",
          "data": {
            "text/plain": "[100, 2, 3, 4, 5]"
          },
          "metadata": {}
        }
      ]
    },
    {
      "cell_type": "code",
      "source": "#length ....\na=(1,2,3,4,5)\nlen(a)",
      "metadata": {
        "trusted": true
      },
      "execution_count": 4,
      "outputs": [
        {
          "execution_count": 4,
          "output_type": "execute_result",
          "data": {
            "text/plain": "5"
          },
          "metadata": {}
        }
      ]
    },
    {
      "cell_type": "code",
      "source": "#index ....\n#position 2 is 0,1 that why out put is also 1\nd=(1,2,3,4,2,5)\n(d.index(2))",
      "metadata": {
        "trusted": true
      },
      "execution_count": 8,
      "outputs": [
        {
          "execution_count": 8,
          "output_type": "execute_result",
          "data": {
            "text/plain": "1"
          },
          "metadata": {}
        }
      ]
    },
    {
      "cell_type": "code",
      "source": "#convert tuple to list & again tuple to list\ne=(100,200,300)\ne=list(e)\ne[0]=1000\ne=tuple(e)\ne",
      "metadata": {
        "trusted": true
      },
      "execution_count": 77,
      "outputs": [
        {
          "execution_count": 77,
          "output_type": "execute_result",
          "data": {
            "text/plain": "(1000, 200, 300)"
          },
          "metadata": {}
        }
      ]
    },
    {
      "cell_type": "code",
      "source": "/////////////////////////////////////////    //////////////////////////////////////////////// //////////",
      "metadata": {},
      "execution_count": null,
      "outputs": []
    },
    {
      "cell_type": "markdown",
      "source": "#Dictonary************************",
      "metadata": {}
    },
    {
      "cell_type": "code",
      "source": "#if you pass dict class again change the value you can change\na={'a':12,'b':45}\nb=dict(a=123,b456)\nb",
      "metadata": {
        "trusted": true
      },
      "execution_count": 1,
      "outputs": [
        {
          "execution_count": 4,
          "output_type": "execute_result",
          "data": {
            "text/plain": "{'a': 123, 'b': 456}"
          },
          "metadata": {}
        }
      ]
    },
    {
      "cell_type": "code",
      "source": "a={'c':12,'b':45}\n(a['c'])",
      "metadata": {
        "trusted": true
      },
      "execution_count": null,
      "outputs": [
        {
          "execution_count": 3,
          "output_type": "execute_result",
          "data": {
            "text/plain": "12"
          },
          "metadata": {}
        }
      ]
    },
    {
      "cell_type": "code",
      "source": "#only list axes to change the value not tuple so we use [] not the ()\na[\"c\"]=1000\na",
      "metadata": {
        "trusted": true
      },
      "execution_count": 6,
      "outputs": [
        {
          "execution_count": 6,
          "output_type": "execute_result",
          "data": {
            "text/plain": "{'a': 12, 'b': 45, 1: {'c': 1000}, 'c': 1000}"
          },
          "metadata": {}
        }
      ]
    },
    {
      "cell_type": "code",
      "source": "a={'c':12,'b':45}\nif \"c\" in a:\n    a[\"c\"]=123\na ",
      "metadata": {
        "trusted": true
      },
      "execution_count": 23,
      "outputs": [
        {
          "execution_count": 23,
          "output_type": "execute_result",
          "data": {
            "text/plain": "{'c': 123, 'b': 45}"
          },
          "metadata": {}
        }
      ]
    },
    {
      "cell_type": "code",
      "source": "d= {'c':12,'b':45}\nprint (len('d'))",
      "metadata": {
        "trusted": true
      },
      "execution_count": 52,
      "outputs": [
        {
          "name": "stdout",
          "text": "1\n",
          "output_type": "stream"
        }
      ]
    },
    {
      "cell_type": "code",
      "source": "for i in d:\n      print (i)",
      "metadata": {
        "trusted": true
      },
      "execution_count": 65,
      "outputs": [
        {
          "name": "stdout",
          "text": "c\nb\n",
          "output_type": "stream"
        }
      ]
    },
    {
      "cell_type": "code",
      "source": "for i in d:\n     print (i, \"=\", d[i])",
      "metadata": {
        "trusted": true
      },
      "execution_count": 62,
      "outputs": [
        {
          "name": "stdout",
          "text": "c = 12\nb = 45\n",
          "output_type": "stream"
        }
      ]
    },
    {
      "cell_type": "code",
      "source": "#zip........\n#string should be tuple & number in list\na=(\"a\",\"b\",\"c\",\"d\")\nb=[1,2,3,4]\nprint(dict(zip(a,b)))",
      "metadata": {
        "trusted": true
      },
      "execution_count": 80,
      "outputs": [
        {
          "name": "stdout",
          "text": "{'a': 1, 'b': 2, 'c': 3, 'd': 4}\n",
          "output_type": "stream"
        }
      ]
    },
    {
      "cell_type": "code",
      "source": "#from keys \nmarks={}.fromkeys(['science','math','physics'],100)\nmarks",
      "metadata": {
        "trusted": true
      },
      "execution_count": 82,
      "outputs": [
        {
          "execution_count": 82,
          "output_type": "execute_result",
          "data": {
            "text/plain": "{'science': 100, 'math': 100, 'physics': 100}"
          },
          "metadata": {}
        }
      ]
    },
    {
      "cell_type": "code",
      "source": "#sorted the key asc & dsc order keys in a list\nmarks={}.fromkeys(['science','math','physics'],100)\nprint(marks)\nprint(sorted(marks.keys()))",
      "metadata": {
        "trusted": true
      },
      "execution_count": 90,
      "outputs": [
        {
          "name": "stdout",
          "text": "{'science': 100, 'math': 100, 'physics': 100}\n['math', 'physics', 'science']\n",
          "output_type": "stream"
        }
      ]
    },
    {
      "cell_type": "code",
      "source": "",
      "metadata": {},
      "execution_count": null,
      "outputs": []
    }
  ]
}